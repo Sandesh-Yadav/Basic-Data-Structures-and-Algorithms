{
  "nbformat": 4,
  "nbformat_minor": 0,
  "metadata": {
    "colab": {
      "name": "Bengaluru_House_Price_Prediction.ipynb",
      "provenance": [],
      "collapsed_sections": []
    },
    "kernelspec": {
      "name": "python3",
      "display_name": "Python 3"
    },
    "language_info": {
      "name": "python"
    }
  },
  "cells": [
    {
      "cell_type": "code",
      "metadata": {
        "id": "UslSeo05O2am"
      },
      "source": [
        "import pandas as pd\n",
        "import numpy as np\n",
        "import matplotlib.pyplot as plt\n",
        "import  seaborn as sns\n",
        "from sklearn.linear_model import LinearRegression\n",
        "from sklearn.model_selection import train_test_split, KFold\n",
        "#from google.colab import files\n",
        "#uploaded = files.upload()"
      ],
      "execution_count": 196,
      "outputs": []
    },
    {
      "cell_type": "code",
      "metadata": {
        "colab": {
          "base_uri": "https://localhost:8080/",
          "height": 203
        },
        "id": "bYke1sGXPT5f",
        "outputId": "97605105-86e6-4973-9b97-47bd299a8429"
      },
      "source": [
        "data = pd.read_csv('Bengaluru_House_Data.csv')\n",
        "data.head()"
      ],
      "execution_count": 184,
      "outputs": [
        {
          "output_type": "execute_result",
          "data": {
            "text/html": [
              "<div>\n",
              "<style scoped>\n",
              "    .dataframe tbody tr th:only-of-type {\n",
              "        vertical-align: middle;\n",
              "    }\n",
              "\n",
              "    .dataframe tbody tr th {\n",
              "        vertical-align: top;\n",
              "    }\n",
              "\n",
              "    .dataframe thead th {\n",
              "        text-align: right;\n",
              "    }\n",
              "</style>\n",
              "<table border=\"1\" class=\"dataframe\">\n",
              "  <thead>\n",
              "    <tr style=\"text-align: right;\">\n",
              "      <th></th>\n",
              "      <th>area_type</th>\n",
              "      <th>availability</th>\n",
              "      <th>location</th>\n",
              "      <th>size</th>\n",
              "      <th>society</th>\n",
              "      <th>total_sqft</th>\n",
              "      <th>bath</th>\n",
              "      <th>balcony</th>\n",
              "      <th>price</th>\n",
              "    </tr>\n",
              "  </thead>\n",
              "  <tbody>\n",
              "    <tr>\n",
              "      <th>0</th>\n",
              "      <td>Super built-up  Area</td>\n",
              "      <td>19-Dec</td>\n",
              "      <td>Electronic City Phase II</td>\n",
              "      <td>2 BHK</td>\n",
              "      <td>Coomee</td>\n",
              "      <td>1056.0</td>\n",
              "      <td>2.0</td>\n",
              "      <td>1.0</td>\n",
              "      <td>39.07</td>\n",
              "    </tr>\n",
              "    <tr>\n",
              "      <th>1</th>\n",
              "      <td>Plot  Area</td>\n",
              "      <td>Ready To Move</td>\n",
              "      <td>Chikka Tirupathi</td>\n",
              "      <td>4 Bedroom</td>\n",
              "      <td>Theanmp</td>\n",
              "      <td>2600.0</td>\n",
              "      <td>5.0</td>\n",
              "      <td>3.0</td>\n",
              "      <td>120.00</td>\n",
              "    </tr>\n",
              "    <tr>\n",
              "      <th>2</th>\n",
              "      <td>Built-up  Area</td>\n",
              "      <td>Ready To Move</td>\n",
              "      <td>Uttarahalli</td>\n",
              "      <td>3 BHK</td>\n",
              "      <td>NaN</td>\n",
              "      <td>1440.0</td>\n",
              "      <td>2.0</td>\n",
              "      <td>3.0</td>\n",
              "      <td>62.00</td>\n",
              "    </tr>\n",
              "    <tr>\n",
              "      <th>3</th>\n",
              "      <td>Super built-up  Area</td>\n",
              "      <td>Ready To Move</td>\n",
              "      <td>Lingadheeranahalli</td>\n",
              "      <td>3 BHK</td>\n",
              "      <td>Soiewre</td>\n",
              "      <td>1521.0</td>\n",
              "      <td>3.0</td>\n",
              "      <td>1.0</td>\n",
              "      <td>95.00</td>\n",
              "    </tr>\n",
              "    <tr>\n",
              "      <th>4</th>\n",
              "      <td>Super built-up  Area</td>\n",
              "      <td>Ready To Move</td>\n",
              "      <td>Kothanur</td>\n",
              "      <td>2 BHK</td>\n",
              "      <td>NaN</td>\n",
              "      <td>1200.0</td>\n",
              "      <td>2.0</td>\n",
              "      <td>1.0</td>\n",
              "      <td>51.00</td>\n",
              "    </tr>\n",
              "  </tbody>\n",
              "</table>\n",
              "</div>"
            ],
            "text/plain": [
              "              area_type   availability  ... balcony   price\n",
              "0  Super built-up  Area         19-Dec  ...     1.0   39.07\n",
              "1            Plot  Area  Ready To Move  ...     3.0  120.00\n",
              "2        Built-up  Area  Ready To Move  ...     3.0   62.00\n",
              "3  Super built-up  Area  Ready To Move  ...     1.0   95.00\n",
              "4  Super built-up  Area  Ready To Move  ...     1.0   51.00\n",
              "\n",
              "[5 rows x 9 columns]"
            ]
          },
          "metadata": {},
          "execution_count": 184
        }
      ]
    },
    {
      "cell_type": "code",
      "metadata": {
        "colab": {
          "base_uri": "https://localhost:8080/"
        },
        "id": "-D_bq6YfPcka",
        "outputId": "74ab9f1c-c4d1-424e-d348-c7ced57b014a"
      },
      "source": [
        "data.info()"
      ],
      "execution_count": 185,
      "outputs": [
        {
          "output_type": "stream",
          "name": "stdout",
          "text": [
            "<class 'pandas.core.frame.DataFrame'>\n",
            "RangeIndex: 13320 entries, 0 to 13319\n",
            "Data columns (total 9 columns):\n",
            " #   Column        Non-Null Count  Dtype  \n",
            "---  ------        --------------  -----  \n",
            " 0   area_type     13320 non-null  object \n",
            " 1   availability  13320 non-null  object \n",
            " 2   location      13319 non-null  object \n",
            " 3   size          13304 non-null  object \n",
            " 4   society       7818 non-null   object \n",
            " 5   total_sqft    13073 non-null  float64\n",
            " 6   bath          13247 non-null  float64\n",
            " 7   balcony       12711 non-null  float64\n",
            " 8   price         13320 non-null  float64\n",
            "dtypes: float64(4), object(5)\n",
            "memory usage: 936.7+ KB\n"
          ]
        }
      ]
    },
    {
      "cell_type": "code",
      "metadata": {
        "colab": {
          "base_uri": "https://localhost:8080/"
        },
        "id": "HlbyPEH-PjVH",
        "outputId": "85ac8fdb-8360-4112-c0da-13de9f46c85a"
      },
      "source": [
        "data.isnull().any()"
      ],
      "execution_count": 186,
      "outputs": [
        {
          "output_type": "execute_result",
          "data": {
            "text/plain": [
              "area_type       False\n",
              "availability    False\n",
              "location         True\n",
              "size             True\n",
              "society          True\n",
              "total_sqft       True\n",
              "bath             True\n",
              "balcony          True\n",
              "price           False\n",
              "dtype: bool"
            ]
          },
          "metadata": {},
          "execution_count": 186
        }
      ]
    },
    {
      "cell_type": "code",
      "metadata": {
        "colab": {
          "base_uri": "https://localhost:8080/"
        },
        "id": "d7yOKcSTPtO4",
        "outputId": "9f0399d1-e1b9-4eee-a22a-9017e7856ab2"
      },
      "source": [
        "print(\"Location :\",data['location'].isnull().sum())\n",
        "print(\"Size :\",data['size'].isnull().sum())\n",
        "print(\"Society :\",data['society'].isnull().sum())\n",
        "print(\"Total Square feet :\",data['total_sqft'].isnull().sum())\n",
        "print(\"Bath :\",data['bath'].isnull().sum())\n",
        "print(\"Balcony :\",data['balcony'].isnull().sum())"
      ],
      "execution_count": 187,
      "outputs": [
        {
          "output_type": "stream",
          "name": "stdout",
          "text": [
            "Location : 1\n",
            "Size : 16\n",
            "Society : 5502\n",
            "Total Square feet : 247\n",
            "Bath : 73\n",
            "Balcony : 609\n"
          ]
        }
      ]
    },
    {
      "cell_type": "code",
      "metadata": {
        "id": "mHesMhS0RAkm",
        "colab": {
          "base_uri": "https://localhost:8080/"
        },
        "outputId": "cec1a967-5034-47e2-b322-fb64b2bf43cb"
      },
      "source": [
        "data2 = data.drop(columns = ['society'], axis = 1)\n",
        "data3 = data2.fillna(method = 'pad')\n",
        "data3.isnull().any()"
      ],
      "execution_count": 188,
      "outputs": [
        {
          "output_type": "execute_result",
          "data": {
            "text/plain": [
              "area_type       False\n",
              "availability    False\n",
              "location        False\n",
              "size            False\n",
              "total_sqft      False\n",
              "bath            False\n",
              "balcony         False\n",
              "price           False\n",
              "dtype: bool"
            ]
          },
          "metadata": {},
          "execution_count": 188
        }
      ]
    },
    {
      "cell_type": "code",
      "metadata": {
        "colab": {
          "base_uri": "https://localhost:8080/",
          "height": 172
        },
        "id": "P1mub3toTAuu",
        "outputId": "704a73e8-1260-4d33-f795-cd6d6597054a"
      },
      "source": [
        "corr = data3.corr()\n",
        "corr"
      ],
      "execution_count": 189,
      "outputs": [
        {
          "output_type": "execute_result",
          "data": {
            "text/html": [
              "<div>\n",
              "<style scoped>\n",
              "    .dataframe tbody tr th:only-of-type {\n",
              "        vertical-align: middle;\n",
              "    }\n",
              "\n",
              "    .dataframe tbody tr th {\n",
              "        vertical-align: top;\n",
              "    }\n",
              "\n",
              "    .dataframe thead th {\n",
              "        text-align: right;\n",
              "    }\n",
              "</style>\n",
              "<table border=\"1\" class=\"dataframe\">\n",
              "  <thead>\n",
              "    <tr style=\"text-align: right;\">\n",
              "      <th></th>\n",
              "      <th>total_sqft</th>\n",
              "      <th>bath</th>\n",
              "      <th>balcony</th>\n",
              "      <th>price</th>\n",
              "    </tr>\n",
              "  </thead>\n",
              "  <tbody>\n",
              "    <tr>\n",
              "      <th>total_sqft</th>\n",
              "      <td>1.000000</td>\n",
              "      <td>0.381760</td>\n",
              "      <td>0.136220</td>\n",
              "      <td>0.567736</td>\n",
              "    </tr>\n",
              "    <tr>\n",
              "      <th>bath</th>\n",
              "      <td>0.381760</td>\n",
              "      <td>1.000000</td>\n",
              "      <td>0.180829</td>\n",
              "      <td>0.454362</td>\n",
              "    </tr>\n",
              "    <tr>\n",
              "      <th>balcony</th>\n",
              "      <td>0.136220</td>\n",
              "      <td>0.180829</td>\n",
              "      <td>1.000000</td>\n",
              "      <td>0.101715</td>\n",
              "    </tr>\n",
              "    <tr>\n",
              "      <th>price</th>\n",
              "      <td>0.567736</td>\n",
              "      <td>0.454362</td>\n",
              "      <td>0.101715</td>\n",
              "      <td>1.000000</td>\n",
              "    </tr>\n",
              "  </tbody>\n",
              "</table>\n",
              "</div>"
            ],
            "text/plain": [
              "            total_sqft      bath   balcony     price\n",
              "total_sqft    1.000000  0.381760  0.136220  0.567736\n",
              "bath          0.381760  1.000000  0.180829  0.454362\n",
              "balcony       0.136220  0.180829  1.000000  0.101715\n",
              "price         0.567736  0.454362  0.101715  1.000000"
            ]
          },
          "metadata": {},
          "execution_count": 189
        }
      ]
    },
    {
      "cell_type": "code",
      "metadata": {
        "colab": {
          "base_uri": "https://localhost:8080/",
          "height": 265
        },
        "id": "YwOEmdbIgCaY",
        "outputId": "164ef203-43ae-44b5-931b-2b94827eca85"
      },
      "source": [
        "fig, axs = plt.subplots(1, 3)\n",
        "axs[0].scatter(data3['total_sqft'], data3['price'])\n",
        "axs[1].scatter(data3['bath'], data3['price'])\n",
        "axs[2].scatter(data3['total_sqft'], data3['bath'])\n",
        "plt.show()"
      ],
      "execution_count": 190,
      "outputs": [
        {
          "output_type": "display_data",
          "data": {
            "image/png": "[encoded data removed]",
            "text/plain": [
              "<Figure size 432x288 with 3 Axes>"
            ]
          },
          "metadata": {
            "needs_background": "light"
          }
        }
      ]
    },
    {
      "cell_type": "code",
      "metadata": {
        "id": "GFlXdYTfrJyv"
      },
      "source": [
        "data4 = data3[data3['price'] < 3000]\n",
        "data5 = data4[data4['total_sqft'] < 20000]\n",
        "data6 = data5[data5['bath'] < 20]"
      ],
      "execution_count": 191,
      "outputs": []
    },
    {
      "cell_type": "code",
      "metadata": {
        "colab": {
          "base_uri": "https://localhost:8080/",
          "height": 265
        },
        "id": "fvoHNQwWsHPC",
        "outputId": "247c882d-c1f6-4b01-a141-1e648e8f18f4"
      },
      "source": [
        "fig, axs = plt.subplots(1, 3)\n",
        "axs[0].scatter(data6['total_sqft'], data6['price'])\n",
        "axs[1].scatter(data6['bath'], data6['price'])\n",
        "axs[2].scatter(data6['total_sqft'], data6['bath'])\n",
        "plt.show()"
      ],
      "execution_count": 192,
      "outputs": [
        {
          "output_type": "display_data",
          "data": {
            "image/png": "[encoded data removed]",
            "text/plain": [
              "<Figure size 432x288 with 3 Axes>"
            ]
          },
          "metadata": {
            "needs_background": "light"
          }
        }
      ]
    },
    {
      "cell_type": "code",
      "metadata": {
        "colab": {
          "base_uri": "https://localhost:8080/"
        },
        "id": "7yK2-qN-TvCx",
        "outputId": "6ffabcb1-0b20-42be-911e-8ff12ff4b710"
      },
      "source": [
        "X = data6[['total_sqft','bath','balcony']].values\n",
        "y = data6['price'].values\n",
        "kf = KFold(n_splits =10, shuffle = True)\n",
        "splits = list(kf.split(X))\n",
        "scores = []\n",
        "for i in range(0,10):\n",
        "    train_indices, test_indices = splits[i]\n",
        "    X_train = X[train_indices]\n",
        "    X_test = X[test_indices]\n",
        "    y_train = y[train_indices]\n",
        "    y_test = y[test_indices]\n",
        "    model = LinearRegression()\n",
        "    model.fit(X_train, y_train)\n",
        "    scores.append((model.score(X_test, y_test)))\n",
        "\n",
        "np.mean(scores)"
      ],
      "execution_count": 242,
      "outputs": [
        {
          "output_type": "execute_result",
          "data": {
            "text/plain": [
              "0.5274638213935299"
            ]
          },
          "metadata": {},
          "execution_count": 242
        }
      ]
    }
  ]
}